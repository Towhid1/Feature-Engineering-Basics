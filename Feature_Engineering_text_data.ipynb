{
 "cells": [
  {
   "cell_type": "code",
   "execution_count": 81,
   "metadata": {},
   "outputs": [],
   "source": [
    "import pandas as pd\n",
    "import numpy as np\n",
    "from sklearn.feature_extraction.text import CountVectorizer\n",
    "import warnings\n",
    "warnings.filterwarnings('ignore')"
   ]
  },
  {
   "cell_type": "markdown",
   "metadata": {},
   "source": [
    "## Bag of words"
   ]
  },
  {
   "cell_type": "code",
   "execution_count": 87,
   "metadata": {},
   "outputs": [
    {
     "name": "stdout",
     "output_type": "stream",
     "text": [
      "Suppose. This is our text data :  ['Hi, how are you you?', 'I am Fine. You?']\n"
     ]
    }
   ],
   "source": [
    "text = ['Hi, how are you you?',\n",
    "        'I am Fine. You?']\n",
    "print(\"Suppose. This is our text data : \",text)"
   ]
  },
  {
   "cell_type": "code",
   "execution_count": 88,
   "metadata": {},
   "outputs": [
    {
     "name": "stdout",
     "output_type": "stream",
     "text": [
      "Words of Bag-of-words :  ['am', 'are', 'fine', 'hi', 'how', 'you']\n"
     ]
    }
   ],
   "source": [
    "bow_converter = CountVectorizer()\n",
    "bow_converter.fit(text)\n",
    "words = bow_converter.get_feature_names()\n",
    "print(\"Words of Bag-of-words : \",words)"
   ]
  },
  {
   "cell_type": "code",
   "execution_count": 89,
   "metadata": {},
   "outputs": [
    {
     "name": "stdout",
     "output_type": "stream",
     "text": [
      "[[0 1 0 1 1 2]\n",
      " [1 0 1 0 0 1]]\n"
     ]
    }
   ],
   "source": [
    "features = bow_converter.transform(text).toarray()\n",
    "print(features)"
   ]
  },
  {
   "cell_type": "code",
   "execution_count": 90,
   "metadata": {},
   "outputs": [
    {
     "data": {
      "text/html": [
       "<div>\n",
       "<style scoped>\n",
       "    .dataframe tbody tr th:only-of-type {\n",
       "        vertical-align: middle;\n",
       "    }\n",
       "\n",
       "    .dataframe tbody tr th {\n",
       "        vertical-align: top;\n",
       "    }\n",
       "\n",
       "    .dataframe thead th {\n",
       "        text-align: right;\n",
       "    }\n",
       "</style>\n",
       "<table border=\"1\" class=\"dataframe\">\n",
       "  <thead>\n",
       "    <tr style=\"text-align: right;\">\n",
       "      <th></th>\n",
       "      <th>am</th>\n",
       "      <th>are</th>\n",
       "      <th>fine</th>\n",
       "      <th>hi</th>\n",
       "      <th>how</th>\n",
       "      <th>you</th>\n",
       "    </tr>\n",
       "  </thead>\n",
       "  <tbody>\n",
       "    <tr>\n",
       "      <th>Hi, how are you you?</th>\n",
       "      <td>0</td>\n",
       "      <td>1</td>\n",
       "      <td>0</td>\n",
       "      <td>1</td>\n",
       "      <td>1</td>\n",
       "      <td>2</td>\n",
       "    </tr>\n",
       "    <tr>\n",
       "      <th>I am Fine. You?</th>\n",
       "      <td>1</td>\n",
       "      <td>0</td>\n",
       "      <td>1</td>\n",
       "      <td>0</td>\n",
       "      <td>0</td>\n",
       "      <td>1</td>\n",
       "    </tr>\n",
       "  </tbody>\n",
       "</table>\n",
       "</div>"
      ],
      "text/plain": [
       "                      am  are  fine  hi  how  you\n",
       "Hi, how are you you?   0    1     0   1    1    2\n",
       "I am Fine. You?        1    0     1   0    0    1"
      ]
     },
     "execution_count": 90,
     "metadata": {},
     "output_type": "execute_result"
    }
   ],
   "source": [
    "frequency_matrix = pd.DataFrame(features, index=text, \n",
    "                                columns=bow_converter.get_feature_names())\n",
    "frequency_matrix"
   ]
  },
  {
   "cell_type": "markdown",
   "metadata": {},
   "source": [
    "## Bag of N-grams"
   ]
  },
  {
   "cell_type": "code",
   "execution_count": 91,
   "metadata": {},
   "outputs": [
    {
     "name": "stdout",
     "output_type": "stream",
     "text": [
      "Suppose. This is our text data :  ['Hi, how are you?', 'Fine. You?']\n"
     ]
    }
   ],
   "source": [
    "text = ['Hi, how are you?',\n",
    "        'Fine. You?']\n",
    "print(\"Suppose. This is our text data : \",text)"
   ]
  },
  {
   "cell_type": "code",
   "execution_count": 95,
   "metadata": {},
   "outputs": [
    {
     "name": "stdout",
     "output_type": "stream",
     "text": [
      "Words of Bag-of-words :  ['are you', 'fine you', 'hi how', 'how are']\n"
     ]
    }
   ],
   "source": [
    "bigram_converter = CountVectorizer(ngram_range=(2,2))\n",
    "bigram_converter.fit(text)\n",
    "bigrams = bigram_converter.get_feature_names()\n",
    "print(\"Words of Bag-of-words : \",bigrams)"
   ]
  },
  {
   "cell_type": "code",
   "execution_count": 96,
   "metadata": {},
   "outputs": [
    {
     "data": {
      "text/html": [
       "<div>\n",
       "<style scoped>\n",
       "    .dataframe tbody tr th:only-of-type {\n",
       "        vertical-align: middle;\n",
       "    }\n",
       "\n",
       "    .dataframe tbody tr th {\n",
       "        vertical-align: top;\n",
       "    }\n",
       "\n",
       "    .dataframe thead th {\n",
       "        text-align: right;\n",
       "    }\n",
       "</style>\n",
       "<table border=\"1\" class=\"dataframe\">\n",
       "  <thead>\n",
       "    <tr style=\"text-align: right;\">\n",
       "      <th></th>\n",
       "      <th>are you</th>\n",
       "      <th>fine you</th>\n",
       "      <th>hi how</th>\n",
       "      <th>how are</th>\n",
       "    </tr>\n",
       "  </thead>\n",
       "  <tbody>\n",
       "    <tr>\n",
       "      <th>Hi, how are you?</th>\n",
       "      <td>1</td>\n",
       "      <td>0</td>\n",
       "      <td>1</td>\n",
       "      <td>1</td>\n",
       "    </tr>\n",
       "    <tr>\n",
       "      <th>Fine. You?</th>\n",
       "      <td>0</td>\n",
       "      <td>1</td>\n",
       "      <td>0</td>\n",
       "      <td>0</td>\n",
       "    </tr>\n",
       "  </tbody>\n",
       "</table>\n",
       "</div>"
      ],
      "text/plain": [
       "                  are you  fine you  hi how  how are\n",
       "Hi, how are you?        1         0       1        1\n",
       "Fine. You?              0         1       0        0"
      ]
     },
     "execution_count": 96,
     "metadata": {},
     "output_type": "execute_result"
    }
   ],
   "source": [
    "features = bigram_converter.transform(text).toarray()\n",
    "frequency_matrix = pd.DataFrame(features, index=text, columns=bigrams)\n",
    "frequency_matrix"
   ]
  },
  {
   "cell_type": "code",
   "execution_count": 97,
   "metadata": {},
   "outputs": [
    {
     "name": "stdout",
     "output_type": "stream",
     "text": [
      "['am', 'are', 'fine', 'hi', 'how', 'you']\n",
      "unigram count: 6 \n",
      "['are you', 'fine you', 'hi how', 'how are'] \n",
      "bigram count: 4\n"
     ]
    }
   ],
   "source": [
    "print(f'{words}\\nunigram count: {len(words)} \\n{bigrams} \\nbigram count: {len(bigrams)}')"
   ]
  },
  {
   "cell_type": "markdown",
   "metadata": {},
   "source": [
    "## Bag of words Vs. Bag of N-grams"
   ]
  },
  {
   "cell_type": "code",
   "execution_count": 98,
   "metadata": {},
   "outputs": [
    {
     "data": {
      "text/html": [
       "<div>\n",
       "<style scoped>\n",
       "    .dataframe tbody tr th:only-of-type {\n",
       "        vertical-align: middle;\n",
       "    }\n",
       "\n",
       "    .dataframe tbody tr th {\n",
       "        vertical-align: top;\n",
       "    }\n",
       "\n",
       "    .dataframe thead th {\n",
       "        text-align: right;\n",
       "    }\n",
       "</style>\n",
       "<table border=\"1\" class=\"dataframe\">\n",
       "  <thead>\n",
       "    <tr style=\"text-align: right;\">\n",
       "      <th></th>\n",
       "      <th>votes</th>\n",
       "      <th>user_id</th>\n",
       "      <th>review_id</th>\n",
       "      <th>stars</th>\n",
       "      <th>date</th>\n",
       "      <th>text</th>\n",
       "      <th>type</th>\n",
       "      <th>business_id</th>\n",
       "    </tr>\n",
       "  </thead>\n",
       "  <tbody>\n",
       "    <tr>\n",
       "      <th>0</th>\n",
       "      <td>{'funny': 0, 'useful': 5, 'cool': 2}</td>\n",
       "      <td>rLtl8ZkDX5vH5nAx9C3q5Q</td>\n",
       "      <td>fWKvX83p0-ka4JS3dc6E5A</td>\n",
       "      <td>5</td>\n",
       "      <td>2011-01-26</td>\n",
       "      <td>My wife took me here on my birthday for breakf...</td>\n",
       "      <td>review</td>\n",
       "      <td>9yKzy9PApeiPPOUJEtnvkg</td>\n",
       "    </tr>\n",
       "    <tr>\n",
       "      <th>1</th>\n",
       "      <td>{'funny': 0, 'useful': 0, 'cool': 0}</td>\n",
       "      <td>0a2KyEL0d3Yb1V6aivbIuQ</td>\n",
       "      <td>IjZ33sJrzXqU-0X6U8NwyA</td>\n",
       "      <td>5</td>\n",
       "      <td>2011-07-27</td>\n",
       "      <td>I have no idea why some people give bad review...</td>\n",
       "      <td>review</td>\n",
       "      <td>ZRJwVLyzEJq1VAihDhYiow</td>\n",
       "    </tr>\n",
       "    <tr>\n",
       "      <th>2</th>\n",
       "      <td>{'funny': 0, 'useful': 1, 'cool': 0}</td>\n",
       "      <td>0hT2KtfLiobPvh6cDC8JQg</td>\n",
       "      <td>IESLBzqUCLdSzSqm0eCSxQ</td>\n",
       "      <td>4</td>\n",
       "      <td>2012-06-14</td>\n",
       "      <td>love the gyro plate. Rice is so good and I als...</td>\n",
       "      <td>review</td>\n",
       "      <td>6oRAC4uyJCsJl1X0WZpVSA</td>\n",
       "    </tr>\n",
       "    <tr>\n",
       "      <th>3</th>\n",
       "      <td>{'funny': 0, 'useful': 2, 'cool': 1}</td>\n",
       "      <td>uZetl9T0NcROGOyFfughhg</td>\n",
       "      <td>G-WvGaISbqqaMHlNnByodA</td>\n",
       "      <td>5</td>\n",
       "      <td>2010-05-27</td>\n",
       "      <td>Rosie, Dakota, and I LOVE Chaparral Dog Park!!...</td>\n",
       "      <td>review</td>\n",
       "      <td>_1QQZuf4zZOyFCvXc0o6Vg</td>\n",
       "    </tr>\n",
       "    <tr>\n",
       "      <th>4</th>\n",
       "      <td>{'funny': 0, 'useful': 0, 'cool': 0}</td>\n",
       "      <td>vYmM4KTsC8ZfQBg-j5MWkw</td>\n",
       "      <td>1uJFq2r5QfJG_6ExMRCaGw</td>\n",
       "      <td>5</td>\n",
       "      <td>2012-01-05</td>\n",
       "      <td>General Manager Scott Petello is a good egg!!!...</td>\n",
       "      <td>review</td>\n",
       "      <td>6ozycU1RpktNG2-1BroVtw</td>\n",
       "    </tr>\n",
       "  </tbody>\n",
       "</table>\n",
       "</div>"
      ],
      "text/plain": [
       "                                  votes                 user_id  \\\n",
       "0  {'funny': 0, 'useful': 5, 'cool': 2}  rLtl8ZkDX5vH5nAx9C3q5Q   \n",
       "1  {'funny': 0, 'useful': 0, 'cool': 0}  0a2KyEL0d3Yb1V6aivbIuQ   \n",
       "2  {'funny': 0, 'useful': 1, 'cool': 0}  0hT2KtfLiobPvh6cDC8JQg   \n",
       "3  {'funny': 0, 'useful': 2, 'cool': 1}  uZetl9T0NcROGOyFfughhg   \n",
       "4  {'funny': 0, 'useful': 0, 'cool': 0}  vYmM4KTsC8ZfQBg-j5MWkw   \n",
       "\n",
       "                review_id  stars        date  \\\n",
       "0  fWKvX83p0-ka4JS3dc6E5A      5  2011-01-26   \n",
       "1  IjZ33sJrzXqU-0X6U8NwyA      5  2011-07-27   \n",
       "2  IESLBzqUCLdSzSqm0eCSxQ      4  2012-06-14   \n",
       "3  G-WvGaISbqqaMHlNnByodA      5  2010-05-27   \n",
       "4  1uJFq2r5QfJG_6ExMRCaGw      5  2012-01-05   \n",
       "\n",
       "                                                text    type  \\\n",
       "0  My wife took me here on my birthday for breakf...  review   \n",
       "1  I have no idea why some people give bad review...  review   \n",
       "2  love the gyro plate. Rice is so good and I als...  review   \n",
       "3  Rosie, Dakota, and I LOVE Chaparral Dog Park!!...  review   \n",
       "4  General Manager Scott Petello is a good egg!!!...  review   \n",
       "\n",
       "              business_id  \n",
       "0  9yKzy9PApeiPPOUJEtnvkg  \n",
       "1  ZRJwVLyzEJq1VAihDhYiow  \n",
       "2  6oRAC4uyJCsJl1X0WZpVSA  \n",
       "3  _1QQZuf4zZOyFCvXc0o6Vg  \n",
       "4  6ozycU1RpktNG2-1BroVtw  "
      ]
     },
     "execution_count": 98,
     "metadata": {},
     "output_type": "execute_result"
    }
   ],
   "source": [
    "import json \n",
    "\n",
    "file = open('data/yelp_academic_dataset_review.json')\n",
    "json_file = []\n",
    "\n",
    "for i in range(10000):\n",
    "    json_file.append(json.loads(file.readline()))\n",
    "file.close()\n",
    "\n",
    "review_df = pd.DataFrame(json_file)\n",
    "review_df.head()"
   ]
  },
  {
   "cell_type": "code",
   "execution_count": 99,
   "metadata": {},
   "outputs": [],
   "source": [
    "bow_converter = CountVectorizer()\n",
    "bigram_converter = CountVectorizer(ngram_range=(2,2))\n",
    "\n",
    "bow_converter.fit(review_df['text'])\n",
    "words = bow_converter.get_feature_names()\n",
    "\n",
    "bigram_converter.fit(review_df['text'])\n",
    "bigrams = bigram_converter.get_feature_names()"
   ]
  },
  {
   "cell_type": "code",
   "execution_count": 100,
   "metadata": {},
   "outputs": [
    {
     "name": "stdout",
     "output_type": "stream",
     "text": [
      "Unigram size : 29185 \n",
      "Bigram size : 385638        \n",
      "13 times bigger vocabulary\n"
     ]
    }
   ],
   "source": [
    "#vocabulary size\n",
    "print (f'Unigram size : {len(words)} \\nBigram size : {len(bigrams)} \\\n",
    "       \\n{int(len(bigrams)/len(words))} times bigger vocabulary')"
   ]
  },
  {
   "cell_type": "markdown",
   "metadata": {},
   "source": [
    "## Tf-Ids (Term frequency–Inverse document frequency)\n",
    "\n",
    "<img src=\"image/tfids.png\"  width=\"400\" />\n",
    "\n",
    "\n",
    "https://stackoverflow.com/questions/42440621/how-term-frequency-is-calculated-in-tfidfvectorizer"
   ]
  },
  {
   "cell_type": "code",
   "execution_count": 101,
   "metadata": {},
   "outputs": [
    {
     "data": {
      "text/plain": [
       "['and', 'cat', 'dog', 'is', 'it', 'kitten', 'pen', 'puppy', 'that', 'this']"
      ]
     },
     "execution_count": 101,
     "metadata": {},
     "output_type": "execute_result"
    }
   ],
   "source": [
    "from sklearn.feature_extraction.text import TfidfVectorizer, TfidfTransformer\n",
    "\n",
    "text = ['it is a puppy', \n",
    "        'it is a cat', \n",
    "        'it is a kitten', \n",
    "        'that is a dog and this is a pen']\n",
    "tfidf = TfidfVectorizer()\n",
    "tfidf.fit(text)\n",
    "\n",
    "tf = tfidf.get_feature_names()\n",
    "tf"
   ]
  },
  {
   "cell_type": "code",
   "execution_count": 102,
   "metadata": {},
   "outputs": [
    {
     "name": "stdout",
     "output_type": "stream",
     "text": [
      "[[0.         0.         0.         0.40264194 0.49248889 0.\n",
      "  0.         0.77157901 0.         0.        ]\n",
      " [0.         0.77157901 0.         0.40264194 0.49248889 0.\n",
      "  0.         0.         0.         0.        ]\n",
      " [0.         0.         0.         0.40264194 0.49248889 0.77157901\n",
      "  0.         0.         0.         0.        ]\n",
      " [0.4052446  0.         0.4052446  0.42294689 0.         0.\n",
      "  0.4052446  0.         0.4052446  0.4052446 ]]\n"
     ]
    },
    {
     "data": {
      "text/html": [
       "<div>\n",
       "<style scoped>\n",
       "    .dataframe tbody tr th:only-of-type {\n",
       "        vertical-align: middle;\n",
       "    }\n",
       "\n",
       "    .dataframe tbody tr th {\n",
       "        vertical-align: top;\n",
       "    }\n",
       "\n",
       "    .dataframe thead th {\n",
       "        text-align: right;\n",
       "    }\n",
       "</style>\n",
       "<table border=\"1\" class=\"dataframe\">\n",
       "  <thead>\n",
       "    <tr style=\"text-align: right;\">\n",
       "      <th></th>\n",
       "      <th>and</th>\n",
       "      <th>cat</th>\n",
       "      <th>dog</th>\n",
       "      <th>is</th>\n",
       "      <th>it</th>\n",
       "      <th>kitten</th>\n",
       "      <th>pen</th>\n",
       "      <th>puppy</th>\n",
       "      <th>that</th>\n",
       "      <th>this</th>\n",
       "    </tr>\n",
       "  </thead>\n",
       "  <tbody>\n",
       "    <tr>\n",
       "      <th>it is a puppy</th>\n",
       "      <td>0.000000</td>\n",
       "      <td>0.000000</td>\n",
       "      <td>0.000000</td>\n",
       "      <td>0.402642</td>\n",
       "      <td>0.492489</td>\n",
       "      <td>0.000000</td>\n",
       "      <td>0.000000</td>\n",
       "      <td>0.771579</td>\n",
       "      <td>0.000000</td>\n",
       "      <td>0.000000</td>\n",
       "    </tr>\n",
       "    <tr>\n",
       "      <th>it is a cat</th>\n",
       "      <td>0.000000</td>\n",
       "      <td>0.771579</td>\n",
       "      <td>0.000000</td>\n",
       "      <td>0.402642</td>\n",
       "      <td>0.492489</td>\n",
       "      <td>0.000000</td>\n",
       "      <td>0.000000</td>\n",
       "      <td>0.000000</td>\n",
       "      <td>0.000000</td>\n",
       "      <td>0.000000</td>\n",
       "    </tr>\n",
       "    <tr>\n",
       "      <th>it is a kitten</th>\n",
       "      <td>0.000000</td>\n",
       "      <td>0.000000</td>\n",
       "      <td>0.000000</td>\n",
       "      <td>0.402642</td>\n",
       "      <td>0.492489</td>\n",
       "      <td>0.771579</td>\n",
       "      <td>0.000000</td>\n",
       "      <td>0.000000</td>\n",
       "      <td>0.000000</td>\n",
       "      <td>0.000000</td>\n",
       "    </tr>\n",
       "    <tr>\n",
       "      <th>that is a dog and this is a pen</th>\n",
       "      <td>0.405245</td>\n",
       "      <td>0.000000</td>\n",
       "      <td>0.405245</td>\n",
       "      <td>0.422947</td>\n",
       "      <td>0.000000</td>\n",
       "      <td>0.000000</td>\n",
       "      <td>0.405245</td>\n",
       "      <td>0.000000</td>\n",
       "      <td>0.405245</td>\n",
       "      <td>0.405245</td>\n",
       "    </tr>\n",
       "  </tbody>\n",
       "</table>\n",
       "</div>"
      ],
      "text/plain": [
       "                                      and       cat       dog        is  \\\n",
       "it is a puppy                    0.000000  0.000000  0.000000  0.402642   \n",
       "it is a cat                      0.000000  0.771579  0.000000  0.402642   \n",
       "it is a kitten                   0.000000  0.000000  0.000000  0.402642   \n",
       "that is a dog and this is a pen  0.405245  0.000000  0.405245  0.422947   \n",
       "\n",
       "                                       it    kitten       pen     puppy  \\\n",
       "it is a puppy                    0.492489  0.000000  0.000000  0.771579   \n",
       "it is a cat                      0.492489  0.000000  0.000000  0.000000   \n",
       "it is a kitten                   0.492489  0.771579  0.000000  0.000000   \n",
       "that is a dog and this is a pen  0.000000  0.000000  0.405245  0.000000   \n",
       "\n",
       "                                     that      this  \n",
       "it is a puppy                    0.000000  0.000000  \n",
       "it is a cat                      0.000000  0.000000  \n",
       "it is a kitten                   0.000000  0.000000  \n",
       "that is a dog and this is a pen  0.405245  0.405245  "
      ]
     },
     "execution_count": 102,
     "metadata": {},
     "output_type": "execute_result"
    }
   ],
   "source": [
    "features = tfidf.transform(text).toarray()\n",
    "print(features)\n",
    "\n",
    "frequency_matrix = pd.DataFrame(features, index=text, columns=tf)\n",
    "frequency_matrix"
   ]
  },
  {
   "cell_type": "code",
   "execution_count": 103,
   "metadata": {},
   "outputs": [
    {
     "name": "stdout",
     "output_type": "stream",
     "text": [
      " Tf-Ids value for word/term puppy: 1.3862943611198906 But in real-life implementaion it is different.\n"
     ]
    }
   ],
   "source": [
    "import math\n",
    "\n",
    "# puppy\n",
    "tf = 1\n",
    "idf = math.log(4/1)\n",
    "\n",
    "print(f' Tf-Ids value for word/term puppy: {tf*idf} But in real-life implementaion it is different.')"
   ]
  },
  {
   "cell_type": "markdown",
   "metadata": {},
   "source": [
    "## Simple comparison"
   ]
  },
  {
   "cell_type": "code",
   "execution_count": 25,
   "metadata": {
    "scrolled": false
   },
   "outputs": [],
   "source": [
    "import json\n",
    "import pandas as pd"
   ]
  },
  {
   "cell_type": "markdown",
   "metadata": {},
   "source": [
    "### Prepare Data"
   ]
  },
  {
   "cell_type": "code",
   "execution_count": 104,
   "metadata": {},
   "outputs": [
    {
     "data": {
      "text/html": [
       "<div>\n",
       "<style scoped>\n",
       "    .dataframe tbody tr th:only-of-type {\n",
       "        vertical-align: middle;\n",
       "    }\n",
       "\n",
       "    .dataframe tbody tr th {\n",
       "        vertical-align: top;\n",
       "    }\n",
       "\n",
       "    .dataframe thead th {\n",
       "        text-align: right;\n",
       "    }\n",
       "</style>\n",
       "<table border=\"1\" class=\"dataframe\">\n",
       "  <thead>\n",
       "    <tr style=\"text-align: right;\">\n",
       "      <th></th>\n",
       "      <th>business_id</th>\n",
       "      <th>full_address</th>\n",
       "      <th>open</th>\n",
       "      <th>categories</th>\n",
       "      <th>city</th>\n",
       "      <th>review_count</th>\n",
       "      <th>name</th>\n",
       "      <th>neighborhoods</th>\n",
       "      <th>longitude</th>\n",
       "      <th>state</th>\n",
       "      <th>stars</th>\n",
       "      <th>latitude</th>\n",
       "      <th>type</th>\n",
       "    </tr>\n",
       "  </thead>\n",
       "  <tbody>\n",
       "    <tr>\n",
       "      <th>0</th>\n",
       "      <td>rncjoVoEFUJGCUoC1JgnUA</td>\n",
       "      <td>8466 W Peoria Ave\\nSte 6\\nPeoria, AZ 85345</td>\n",
       "      <td>True</td>\n",
       "      <td>[Accountants, Professional Services, Tax Servi...</td>\n",
       "      <td>Peoria</td>\n",
       "      <td>3</td>\n",
       "      <td>Peoria Income Tax Service</td>\n",
       "      <td>[]</td>\n",
       "      <td>-112.241596</td>\n",
       "      <td>AZ</td>\n",
       "      <td>5.0</td>\n",
       "      <td>33.581867</td>\n",
       "      <td>business</td>\n",
       "    </tr>\n",
       "    <tr>\n",
       "      <th>1</th>\n",
       "      <td>0FNFSzCFP_rGUoJx8W7tJg</td>\n",
       "      <td>2149 W Wood Dr\\nPhoenix, AZ 85029</td>\n",
       "      <td>True</td>\n",
       "      <td>[Sporting Goods, Bikes, Shopping]</td>\n",
       "      <td>Phoenix</td>\n",
       "      <td>5</td>\n",
       "      <td>Bike Doctor</td>\n",
       "      <td>[]</td>\n",
       "      <td>-112.105933</td>\n",
       "      <td>AZ</td>\n",
       "      <td>5.0</td>\n",
       "      <td>33.604054</td>\n",
       "      <td>business</td>\n",
       "    </tr>\n",
       "    <tr>\n",
       "      <th>2</th>\n",
       "      <td>3f_lyB6vFK48ukH6ScvLHg</td>\n",
       "      <td>1134 N Central Ave\\nPhoenix, AZ 85004</td>\n",
       "      <td>True</td>\n",
       "      <td>[]</td>\n",
       "      <td>Phoenix</td>\n",
       "      <td>4</td>\n",
       "      <td>Valley Permaculture Alliance</td>\n",
       "      <td>[]</td>\n",
       "      <td>-112.073933</td>\n",
       "      <td>AZ</td>\n",
       "      <td>5.0</td>\n",
       "      <td>33.460526</td>\n",
       "      <td>business</td>\n",
       "    </tr>\n",
       "    <tr>\n",
       "      <th>3</th>\n",
       "      <td>usAsSV36QmUej8--yvN-dg</td>\n",
       "      <td>845 W Southern Ave\\nPhoenix, AZ 85041</td>\n",
       "      <td>True</td>\n",
       "      <td>[Food, Grocery]</td>\n",
       "      <td>Phoenix</td>\n",
       "      <td>5</td>\n",
       "      <td>Food City</td>\n",
       "      <td>[]</td>\n",
       "      <td>-112.085377</td>\n",
       "      <td>AZ</td>\n",
       "      <td>3.5</td>\n",
       "      <td>33.392210</td>\n",
       "      <td>business</td>\n",
       "    </tr>\n",
       "    <tr>\n",
       "      <th>4</th>\n",
       "      <td>PzOqRohWw7F7YEPBz6AubA</td>\n",
       "      <td>6520 W Happy Valley Rd\\nSte 101\\nGlendale Az, ...</td>\n",
       "      <td>True</td>\n",
       "      <td>[Food, Bagels, Delis, Restaurants]</td>\n",
       "      <td>Glendale Az</td>\n",
       "      <td>14</td>\n",
       "      <td>Hot Bagels &amp; Deli</td>\n",
       "      <td>[]</td>\n",
       "      <td>-112.200264</td>\n",
       "      <td>AZ</td>\n",
       "      <td>3.5</td>\n",
       "      <td>33.712797</td>\n",
       "      <td>business</td>\n",
       "    </tr>\n",
       "  </tbody>\n",
       "</table>\n",
       "</div>"
      ],
      "text/plain": [
       "              business_id                                       full_address  \\\n",
       "0  rncjoVoEFUJGCUoC1JgnUA         8466 W Peoria Ave\\nSte 6\\nPeoria, AZ 85345   \n",
       "1  0FNFSzCFP_rGUoJx8W7tJg                  2149 W Wood Dr\\nPhoenix, AZ 85029   \n",
       "2  3f_lyB6vFK48ukH6ScvLHg              1134 N Central Ave\\nPhoenix, AZ 85004   \n",
       "3  usAsSV36QmUej8--yvN-dg              845 W Southern Ave\\nPhoenix, AZ 85041   \n",
       "4  PzOqRohWw7F7YEPBz6AubA  6520 W Happy Valley Rd\\nSte 101\\nGlendale Az, ...   \n",
       "\n",
       "   open                                         categories         city  \\\n",
       "0  True  [Accountants, Professional Services, Tax Servi...       Peoria   \n",
       "1  True                  [Sporting Goods, Bikes, Shopping]      Phoenix   \n",
       "2  True                                                 []      Phoenix   \n",
       "3  True                                    [Food, Grocery]      Phoenix   \n",
       "4  True                 [Food, Bagels, Delis, Restaurants]  Glendale Az   \n",
       "\n",
       "   review_count                          name neighborhoods   longitude state  \\\n",
       "0             3     Peoria Income Tax Service            [] -112.241596    AZ   \n",
       "1             5                   Bike Doctor            [] -112.105933    AZ   \n",
       "2             4  Valley Permaculture Alliance            [] -112.073933    AZ   \n",
       "3             5                     Food City            [] -112.085377    AZ   \n",
       "4            14             Hot Bagels & Deli            [] -112.200264    AZ   \n",
       "\n",
       "   stars   latitude      type  \n",
       "0    5.0  33.581867  business  \n",
       "1    5.0  33.604054  business  \n",
       "2    5.0  33.460526  business  \n",
       "3    3.5  33.392210  business  \n",
       "4    3.5  33.712797  business  "
      ]
     },
     "execution_count": 104,
     "metadata": {},
     "output_type": "execute_result"
    }
   ],
   "source": [
    "# data.rar\n",
    "# Load Yelp business data\n",
    "biz_f = open('data/yelp_academic_dataset_business.json')\n",
    "biz_df = pd.DataFrame([json.loads(x) for x in biz_f.readlines()])\n",
    "biz_f.close()\n",
    "biz_df.head()"
   ]
  },
  {
   "cell_type": "code",
   "execution_count": 105,
   "metadata": {},
   "outputs": [
    {
     "data": {
      "text/html": [
       "<div>\n",
       "<style scoped>\n",
       "    .dataframe tbody tr th:only-of-type {\n",
       "        vertical-align: middle;\n",
       "    }\n",
       "\n",
       "    .dataframe tbody tr th {\n",
       "        vertical-align: top;\n",
       "    }\n",
       "\n",
       "    .dataframe thead th {\n",
       "        text-align: right;\n",
       "    }\n",
       "</style>\n",
       "<table border=\"1\" class=\"dataframe\">\n",
       "  <thead>\n",
       "    <tr style=\"text-align: right;\">\n",
       "      <th></th>\n",
       "      <th>votes</th>\n",
       "      <th>user_id</th>\n",
       "      <th>review_id</th>\n",
       "      <th>stars</th>\n",
       "      <th>date</th>\n",
       "      <th>text</th>\n",
       "      <th>type</th>\n",
       "      <th>business_id</th>\n",
       "    </tr>\n",
       "  </thead>\n",
       "  <tbody>\n",
       "    <tr>\n",
       "      <th>0</th>\n",
       "      <td>{'funny': 0, 'useful': 5, 'cool': 2}</td>\n",
       "      <td>rLtl8ZkDX5vH5nAx9C3q5Q</td>\n",
       "      <td>fWKvX83p0-ka4JS3dc6E5A</td>\n",
       "      <td>5</td>\n",
       "      <td>2011-01-26</td>\n",
       "      <td>My wife took me here on my birthday for breakf...</td>\n",
       "      <td>review</td>\n",
       "      <td>9yKzy9PApeiPPOUJEtnvkg</td>\n",
       "    </tr>\n",
       "    <tr>\n",
       "      <th>1</th>\n",
       "      <td>{'funny': 0, 'useful': 0, 'cool': 0}</td>\n",
       "      <td>0a2KyEL0d3Yb1V6aivbIuQ</td>\n",
       "      <td>IjZ33sJrzXqU-0X6U8NwyA</td>\n",
       "      <td>5</td>\n",
       "      <td>2011-07-27</td>\n",
       "      <td>I have no idea why some people give bad review...</td>\n",
       "      <td>review</td>\n",
       "      <td>ZRJwVLyzEJq1VAihDhYiow</td>\n",
       "    </tr>\n",
       "    <tr>\n",
       "      <th>2</th>\n",
       "      <td>{'funny': 0, 'useful': 1, 'cool': 0}</td>\n",
       "      <td>0hT2KtfLiobPvh6cDC8JQg</td>\n",
       "      <td>IESLBzqUCLdSzSqm0eCSxQ</td>\n",
       "      <td>4</td>\n",
       "      <td>2012-06-14</td>\n",
       "      <td>love the gyro plate. Rice is so good and I als...</td>\n",
       "      <td>review</td>\n",
       "      <td>6oRAC4uyJCsJl1X0WZpVSA</td>\n",
       "    </tr>\n",
       "    <tr>\n",
       "      <th>3</th>\n",
       "      <td>{'funny': 0, 'useful': 2, 'cool': 1}</td>\n",
       "      <td>uZetl9T0NcROGOyFfughhg</td>\n",
       "      <td>G-WvGaISbqqaMHlNnByodA</td>\n",
       "      <td>5</td>\n",
       "      <td>2010-05-27</td>\n",
       "      <td>Rosie, Dakota, and I LOVE Chaparral Dog Park!!...</td>\n",
       "      <td>review</td>\n",
       "      <td>_1QQZuf4zZOyFCvXc0o6Vg</td>\n",
       "    </tr>\n",
       "    <tr>\n",
       "      <th>4</th>\n",
       "      <td>{'funny': 0, 'useful': 0, 'cool': 0}</td>\n",
       "      <td>vYmM4KTsC8ZfQBg-j5MWkw</td>\n",
       "      <td>1uJFq2r5QfJG_6ExMRCaGw</td>\n",
       "      <td>5</td>\n",
       "      <td>2012-01-05</td>\n",
       "      <td>General Manager Scott Petello is a good egg!!!...</td>\n",
       "      <td>review</td>\n",
       "      <td>6ozycU1RpktNG2-1BroVtw</td>\n",
       "    </tr>\n",
       "  </tbody>\n",
       "</table>\n",
       "</div>"
      ],
      "text/plain": [
       "                                  votes                 user_id  \\\n",
       "0  {'funny': 0, 'useful': 5, 'cool': 2}  rLtl8ZkDX5vH5nAx9C3q5Q   \n",
       "1  {'funny': 0, 'useful': 0, 'cool': 0}  0a2KyEL0d3Yb1V6aivbIuQ   \n",
       "2  {'funny': 0, 'useful': 1, 'cool': 0}  0hT2KtfLiobPvh6cDC8JQg   \n",
       "3  {'funny': 0, 'useful': 2, 'cool': 1}  uZetl9T0NcROGOyFfughhg   \n",
       "4  {'funny': 0, 'useful': 0, 'cool': 0}  vYmM4KTsC8ZfQBg-j5MWkw   \n",
       "\n",
       "                review_id  stars        date  \\\n",
       "0  fWKvX83p0-ka4JS3dc6E5A      5  2011-01-26   \n",
       "1  IjZ33sJrzXqU-0X6U8NwyA      5  2011-07-27   \n",
       "2  IESLBzqUCLdSzSqm0eCSxQ      4  2012-06-14   \n",
       "3  G-WvGaISbqqaMHlNnByodA      5  2010-05-27   \n",
       "4  1uJFq2r5QfJG_6ExMRCaGw      5  2012-01-05   \n",
       "\n",
       "                                                text    type  \\\n",
       "0  My wife took me here on my birthday for breakf...  review   \n",
       "1  I have no idea why some people give bad review...  review   \n",
       "2  love the gyro plate. Rice is so good and I als...  review   \n",
       "3  Rosie, Dakota, and I LOVE Chaparral Dog Park!!...  review   \n",
       "4  General Manager Scott Petello is a good egg!!!...  review   \n",
       "\n",
       "              business_id  \n",
       "0  9yKzy9PApeiPPOUJEtnvkg  \n",
       "1  ZRJwVLyzEJq1VAihDhYiow  \n",
       "2  6oRAC4uyJCsJl1X0WZpVSA  \n",
       "3  _1QQZuf4zZOyFCvXc0o6Vg  \n",
       "4  6ozycU1RpktNG2-1BroVtw  "
      ]
     },
     "execution_count": 105,
     "metadata": {},
     "output_type": "execute_result"
    }
   ],
   "source": [
    "# Load Yelp reviews data\n",
    "review_file = open('data/yelp_academic_dataset_review.json')\n",
    "review_df = pd.DataFrame([json.loads(x) for x in review_file.readlines()])\n",
    "review_file.close()\n",
    "review_df.head()"
   ]
  },
  {
   "cell_type": "code",
   "execution_count": 123,
   "metadata": {},
   "outputs": [
    {
     "data": {
      "text/plain": [
       "0         My wife took me here on my birthday for breakf...\n",
       "1         I have no idea why some people give bad review...\n",
       "2         love the gyro plate. Rice is so good and I als...\n",
       "3         Rosie, Dakota, and I LOVE Chaparral Dog Park!!...\n",
       "4         General Manager Scott Petello is a good egg!!!...\n",
       "                                ...                        \n",
       "229902    I really wanted to like this place because it'...\n",
       "229903    My husband I stayed here for two nights.  Of c...\n",
       "229904    Cool atmosphere. A lot of beers on tap and goo...\n",
       "229905    I have to take a star off for the spotty servi...\n",
       "229906                                         So cool, yo.\n",
       "Name: text, Length: 229907, dtype: object"
      ]
     },
     "execution_count": 123,
     "metadata": {},
     "output_type": "execute_result"
    }
   ],
   "source": [
    "review_df['text']"
   ]
  },
  {
   "cell_type": "code",
   "execution_count": 106,
   "metadata": {},
   "outputs": [
    {
     "data": {
      "text/plain": [
       "(Index(['business_id', 'full_address', 'open', 'categories', 'city',\n",
       "        'review_count', 'name', 'neighborhoods', 'longitude', 'state', 'stars',\n",
       "        'latitude', 'type'],\n",
       "       dtype='object'),\n",
       " Index(['votes', 'user_id', 'review_id', 'stars', 'date', 'text', 'type',\n",
       "        'business_id'],\n",
       "       dtype='object'))"
      ]
     },
     "execution_count": 106,
     "metadata": {},
     "output_type": "execute_result"
    }
   ],
   "source": [
    "biz_df.columns, review_df.columns"
   ]
  },
  {
   "cell_type": "code",
   "execution_count": 50,
   "metadata": {},
   "outputs": [
    {
     "data": {
      "text/plain": [
       "0        [Accountants, Professional Services, Tax Servi...\n",
       "1                        [Sporting Goods, Bikes, Shopping]\n",
       "2                                                       []\n",
       "3                                          [Food, Grocery]\n",
       "4                       [Food, Bagels, Delis, Restaurants]\n",
       "                               ...                        \n",
       "11532                               [Mexican, Restaurants]\n",
       "11533                               [Mexican, Restaurants]\n",
       "11534                                      [Food, Grocery]\n",
       "11535                  [Greek, Mediterranean, Restaurants]\n",
       "11536                            [Print Media, Mass Media]\n",
       "Name: categories, Length: 11537, dtype: object"
      ]
     },
     "execution_count": 50,
     "metadata": {},
     "output_type": "execute_result"
    }
   ],
   "source": [
    "biz_df['categories']"
   ]
  },
  {
   "cell_type": "code",
   "execution_count": 107,
   "metadata": {},
   "outputs": [],
   "source": [
    "# Pull out only Nightlife and Restaurants businesses\n",
    "two_biz = biz_df[biz_df.apply(lambda x: 'Nightlife' in x['categories'] or\n",
    "'Restaurants' in x['categories'], axis=1)]\n",
    "\n",
    "# Join with the reviews to get all reviews on the two types of business\n",
    "two_biz_reviews = two_biz.merge(review_df, on='business_id', how='inner')\n",
    "\n",
    "# Trim away the features we won't use\n",
    "two_biz_reviews = two_biz_reviews[['business_id',\n",
    "                                    'text',\n",
    "                                    'categories']]\n",
    "\n",
    "# Create the target column--True for Nightlife businesses, and False otherwise\n",
    "two_biz_reviews['target'] = two_biz_reviews.apply(lambda x: 'Nightlife' in x['categories'], axis=1)"
   ]
  },
  {
   "cell_type": "code",
   "execution_count": 108,
   "metadata": {},
   "outputs": [
    {
     "name": "stdout",
     "output_type": "stream",
     "text": [
      "False    135902\n",
      "True      30136\n",
      "Name: target, dtype: int64\n"
     ]
    }
   ],
   "source": [
    "print(two_biz_reviews.target.value_counts())\n",
    "# two_biz_reviews.head()"
   ]
  },
  {
   "cell_type": "code",
   "execution_count": 109,
   "metadata": {},
   "outputs": [
    {
     "name": "stdout",
     "output_type": "stream",
     "text": [
      "nightlife : (30136, 4) \n",
      "restaurants : (158430, 4)\n"
     ]
    }
   ],
   "source": [
    "nightlife = two_biz_reviews[two_biz_reviews.apply(lambda x: 'Nightlife' in x['categories'], axis=1)]\n",
    "restaurants = two_biz_reviews[two_biz_reviews.apply(lambda x: 'Restaurants' in x['categories'], axis=1)]\n",
    "print(f'nightlife : {nightlife.shape} \\nrestaurants : {restaurants.shape}')"
   ]
  },
  {
   "cell_type": "code",
   "execution_count": 110,
   "metadata": {},
   "outputs": [
    {
     "data": {
      "text/plain": [
       "0.17119484946032948"
      ]
     },
     "execution_count": 110,
     "metadata": {},
     "output_type": "execute_result"
    }
   ],
   "source": [
    "(30136*.9)/158430"
   ]
  },
  {
   "cell_type": "code",
   "execution_count": 112,
   "metadata": {},
   "outputs": [
    {
     "name": "stdout",
     "output_type": "stream",
     "text": [
      "(27122, 4) (27107, 4)\n"
     ]
    },
    {
     "data": {
      "text/plain": [
       "(54229, 4)"
      ]
     },
     "execution_count": 112,
     "metadata": {},
     "output_type": "execute_result"
    }
   ],
   "source": [
    "nightlife_subset = nightlife.sample(frac=.9, random_state=123)\n",
    "restaurant_subset = restaurants.sample(frac=0.1711, random_state=123)\n",
    "\n",
    "print(nightlife_subset.shape, restaurant_subset.shape)\n",
    "combined = pd.concat([nightlife_subset, restaurant_subset])\n",
    "combined.shape"
   ]
  },
  {
   "cell_type": "markdown",
   "metadata": {},
   "source": [
    "### Data Split"
   ]
  },
  {
   "cell_type": "code",
   "execution_count": 113,
   "metadata": {},
   "outputs": [
    {
     "data": {
      "text/plain": [
       "((37960, 4), (16269, 4))"
      ]
     },
     "execution_count": 113,
     "metadata": {},
     "output_type": "execute_result"
    }
   ],
   "source": [
    "from sklearn.model_selection import train_test_split\n",
    "\n",
    "# Split into training and test datasets\n",
    "training_data, test_data = train_test_split(combined, train_size=0.7, random_state=123)\n",
    "training_data.shape, test_data.shape"
   ]
  },
  {
   "cell_type": "markdown",
   "metadata": {},
   "source": [
    "### Data Representation"
   ]
  },
  {
   "cell_type": "code",
   "execution_count": 114,
   "metadata": {},
   "outputs": [
    {
     "name": "stdout",
     "output_type": "stream",
     "text": [
      "48504\n"
     ]
    }
   ],
   "source": [
    "# Represent the review text as a bag-of-words\n",
    "bow_transform = CountVectorizer()\n",
    "X_tr_bow = bow_transform.fit_transform(training_data['text'])\n",
    "X_te_bow = bow_transform.transform(test_data['text'])\n",
    "\n",
    "print(len(bow_transform.vocabulary_))\n",
    "\n",
    "# target data\n",
    "y_tr = training_data['target']\n",
    "y_te = test_data['target']\n",
    "\n",
    "\n",
    "# Create the tf-idf representation using the bag-of-words matrix\n",
    "tfidf_trfm = TfidfTransformer(norm=None)\n",
    "X_tr_tfidf = tfidf_trfm.fit_transform(X_tr_bow)\n",
    "X_te_tfidf = tfidf_trfm.transform(X_te_bow)"
   ]
  },
  {
   "cell_type": "markdown",
   "metadata": {},
   "source": [
    "### Applying Machine Mearning"
   ]
  },
  {
   "cell_type": "code",
   "execution_count": 120,
   "metadata": {},
   "outputs": [
    {
     "name": "stdout",
     "output_type": "stream",
     "text": [
      "Test score with bow features: 0.8241440776937734\n",
      "Test score with tfidf features: 0.8127112914131169\n"
     ]
    }
   ],
   "source": [
    "from sklearn.linear_model import LogisticRegression\n",
    "\n",
    "def simple_logistic_classify(X_tr, y_tr, X_test, y_test, description):\n",
    "    ### Helper function to train a logistic classifier and score on testdata\n",
    "    m = LogisticRegression().fit(X_tr, y_tr)\n",
    "    s = m.score(X_test, y_test)\n",
    "    print ('Test score with', description, 'features:', s)\n",
    "    return m\n",
    "\n",
    "m1 = simple_logistic_classify(X_tr_bow, y_tr, X_te_bow, y_te, 'bow')\n",
    "m3 = simple_logistic_classify(X_tr_tfidf, y_tr, X_te_tfidf, y_te, 'tfidf')\n"
   ]
  },
  {
   "cell_type": "markdown",
   "metadata": {},
   "source": [
    "### Fine-Tuning"
   ]
  },
  {
   "cell_type": "code",
   "execution_count": 121,
   "metadata": {},
   "outputs": [
    {
     "name": "stdout",
     "output_type": "stream",
     "text": [
      "using BoW:\n",
      "Fitting 5 folds for each of 5 candidates, totalling 25 fits\n"
     ]
    },
    {
     "name": "stderr",
     "output_type": "stream",
     "text": [
      "[Parallel(n_jobs=3)]: Using backend LokyBackend with 3 concurrent workers.\n",
      "[Parallel(n_jobs=3)]: Done  25 out of  25 | elapsed:   31.0s finished\n"
     ]
    },
    {
     "name": "stdout",
     "output_type": "stream",
     "text": [
      "using tf-idf:\n",
      "Fitting 5 folds for each of 5 candidates, totalling 25 fits\n"
     ]
    },
    {
     "name": "stderr",
     "output_type": "stream",
     "text": [
      "[Parallel(n_jobs=3)]: Using backend LokyBackend with 3 concurrent workers.\n",
      "[Parallel(n_jobs=3)]: Done  25 out of  25 | elapsed:   29.6s finished\n"
     ]
    },
    {
     "data": {
      "text/plain": [
       "GridSearchCV(cv=5, error_score=nan,\n",
       "             estimator=LogisticRegression(C=1.0, class_weight=None, dual=False,\n",
       "                                          fit_intercept=True,\n",
       "                                          intercept_scaling=1, l1_ratio=None,\n",
       "                                          max_iter=100, multi_class='auto',\n",
       "                                          n_jobs=None, penalty='l2',\n",
       "                                          random_state=None, solver='lbfgs',\n",
       "                                          tol=0.0001, verbose=0,\n",
       "                                          warm_start=False),\n",
       "             iid='deprecated', n_jobs=3,\n",
       "             param_grid={'C': [1e-05, 0.0001, 0.001, 0.1, 100.0]},\n",
       "             pre_dispatch='2*n_jobs', refit=True, return_train_score=False,\n",
       "             scoring=None, verbose=2)"
      ]
     },
     "execution_count": 121,
     "metadata": {},
     "output_type": "execute_result"
    }
   ],
   "source": [
    "import sklearn.model_selection as model\n",
    "\n",
    "# Specify a search grid, then do a 5-fold grid search for each of the feature sets\n",
    "# 1e5 = 100000\n",
    "prams =  [1e-5, 1e-4, 1e-3, 1e-1, 1e2]\n",
    "param_grid_ = {'C': prams}\n",
    "\n",
    "# Tune classifier for bag-of-words representation\n",
    "print('using BoW:')\n",
    "bow_search = model.GridSearchCV(LogisticRegression(), cv=5, param_grid=param_grid_, verbose=2, n_jobs=3)\n",
    "bow_search.fit(X_tr_bow, y_tr)\n",
    "\n",
    "\n",
    "# Tune classifier for tf-idf\n",
    "print('using tf-idf:')\n",
    "tfidf_search = model.GridSearchCV(LogisticRegression(), cv=5, param_grid=param_grid_, verbose=2, n_jobs=3)\n",
    "tfidf_search.fit(X_tr_tfidf, y_tr)"
   ]
  },
  {
   "cell_type": "code",
   "execution_count": 122,
   "metadata": {},
   "outputs": [
    {
     "data": {
      "text/html": [
       "<div>\n",
       "<style scoped>\n",
       "    .dataframe tbody tr th:only-of-type {\n",
       "        vertical-align: middle;\n",
       "    }\n",
       "\n",
       "    .dataframe tbody tr th {\n",
       "        vertical-align: top;\n",
       "    }\n",
       "\n",
       "    .dataframe thead th {\n",
       "        text-align: right;\n",
       "    }\n",
       "</style>\n",
       "<table border=\"1\" class=\"dataframe\">\n",
       "  <thead>\n",
       "    <tr style=\"text-align: right;\">\n",
       "      <th></th>\n",
       "      <th>bow</th>\n",
       "      <th>tfidf</th>\n",
       "      <th>Inverse of regularization strength (C)</th>\n",
       "    </tr>\n",
       "  </thead>\n",
       "  <tbody>\n",
       "    <tr>\n",
       "      <th>0</th>\n",
       "      <td>0.574737</td>\n",
       "      <td>0.706507</td>\n",
       "      <td>0.00001</td>\n",
       "    </tr>\n",
       "    <tr>\n",
       "      <th>1</th>\n",
       "      <td>0.678741</td>\n",
       "      <td>0.810774</td>\n",
       "      <td>0.00010</td>\n",
       "    </tr>\n",
       "    <tr>\n",
       "      <th>2</th>\n",
       "      <td>0.782929</td>\n",
       "      <td>0.830980</td>\n",
       "      <td>0.00100</td>\n",
       "    </tr>\n",
       "    <tr>\n",
       "      <th>3</th>\n",
       "      <td>0.825922</td>\n",
       "      <td>0.819547</td>\n",
       "      <td>0.10000</td>\n",
       "    </tr>\n",
       "    <tr>\n",
       "      <th>4</th>\n",
       "      <td>0.816280</td>\n",
       "      <td>0.800922</td>\n",
       "      <td>100.00000</td>\n",
       "    </tr>\n",
       "  </tbody>\n",
       "</table>\n",
       "</div>"
      ],
      "text/plain": [
       "        bow     tfidf  Inverse of regularization strength (C)\n",
       "0  0.574737  0.706507                                 0.00001\n",
       "1  0.678741  0.810774                                 0.00010\n",
       "2  0.782929  0.830980                                 0.00100\n",
       "3  0.825922  0.819547                                 0.10000\n",
       "4  0.816280  0.800922                               100.00000"
      ]
     },
     "execution_count": 122,
     "metadata": {},
     "output_type": "execute_result"
    }
   ],
   "source": [
    "search_results = pd.DataFrame.from_dict({'bow': bow_search.cv_results_['mean_test_score'], \n",
    "                                         'tfidf': tfidf_search.cv_results_['mean_test_score'],\n",
    "                                        'Inverse of regularization strength (C)': prams})\n",
    "search_results"
   ]
  },
  {
   "cell_type": "code",
   "execution_count": null,
   "metadata": {},
   "outputs": [],
   "source": []
  }
 ],
 "metadata": {
  "kernelspec": {
   "display_name": "Python 3",
   "language": "python",
   "name": "python3"
  },
  "language_info": {
   "codemirror_mode": {
    "name": "ipython",
    "version": 3
   },
   "file_extension": ".py",
   "mimetype": "text/x-python",
   "name": "python",
   "nbconvert_exporter": "python",
   "pygments_lexer": "ipython3",
   "version": "3.7.2"
  }
 },
 "nbformat": 4,
 "nbformat_minor": 4
}
